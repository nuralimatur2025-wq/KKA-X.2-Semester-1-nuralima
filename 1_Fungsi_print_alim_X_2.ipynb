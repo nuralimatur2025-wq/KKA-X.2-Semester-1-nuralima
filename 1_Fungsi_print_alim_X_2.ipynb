{
  "nbformat": 4,
  "nbformat_minor": 0,
  "metadata": {
    "colab": {
      "provenance": [],
      "authorship_tag": "ABX9TyNrWVmawcdu9iJhow5jXaSw",
      "include_colab_link": true
    },
    "kernelspec": {
      "name": "python3",
      "display_name": "Python 3"
    },
    "language_info": {
      "name": "python"
    }
  },
  "cells": [
    {
      "cell_type": "markdown",
      "metadata": {
        "id": "view-in-github",
        "colab_type": "text"
      },
      "source": [
        "<a href=\"https://colab.research.google.com/github/nuralimatur2025-wq/KKA-X.2-Semester-1-nuralima/blob/main/1_Fungsi_print_alim_X_2.ipynb\" target=\"_parent\"><img src=\"https://colab.research.google.com/assets/colab-badge.svg\" alt=\"Open In Colab\"/></a>"
      ]
    },
    {
      "cell_type": "markdown",
      "source": [
        "Nama: Nur Alimatur Rohmah\n",
        "\n",
        "Kelas: X.2\n",
        "\n",
        "Nomor absen: 26"
      ],
      "metadata": {
        "id": "ccc028SBtsIS"
      }
    },
    {
      "cell_type": "code",
      "execution_count": null,
      "metadata": {
        "id": "hT443HB-tDdk"
      },
      "outputs": [],
      "source": []
    },
    {
      "cell_type": "markdown",
      "source": [
        "#Penampilan Teks Bebas"
      ],
      "metadata": {
        "id": "bcLYH07bvQxK"
      }
    },
    {
      "cell_type": "markdown",
      "source": [],
      "metadata": {
        "id": "ovdjay5BCBvl"
      }
    },
    {
      "cell_type": "markdown",
      "source": [],
      "metadata": {
        "id": "h8i0NGjPB61c"
      }
    },
    {
      "cell_type": "code",
      "source": [
        "print(\"hallo word\")"
      ],
      "metadata": {
        "colab": {
          "base_uri": "https://localhost:8080/"
        },
        "id": "i54OWAlEwvmK",
        "outputId": "1e68c817-9098-4dc4-b7a2-b807c77f46b9"
      },
      "execution_count": null,
      "outputs": [
        {
          "output_type": "stream",
          "name": "stdout",
          "text": [
            "hallo word\n"
          ]
        }
      ]
    },
    {
      "cell_type": "markdown",
      "source": [
        "#Menampilkan Nilai Variabel"
      ],
      "metadata": {
        "id": "Ij42uaA8xLNI"
      }
    },
    {
      "cell_type": "markdown",
      "source": [],
      "metadata": {
        "id": "DraMx12bCaB7"
      }
    },
    {
      "cell_type": "code",
      "source": [
        "berat_badan = 50\n",
        "\n",
        "print(berat_badan)"
      ],
      "metadata": {
        "colab": {
          "base_uri": "https://localhost:8080/"
        },
        "id": "3KAeGPXFxPyR",
        "outputId": "ea277cf8-1681-4d1f-c07e-49c84605eaf6"
      },
      "execution_count": null,
      "outputs": [
        {
          "output_type": "stream",
          "name": "stdout",
          "text": [
            "50\n"
          ]
        }
      ]
    },
    {
      "cell_type": "code",
      "source": [
        "Nama = \"Nur Alimatur Rohmah\"\n",
        "print(Nama)"
      ],
      "metadata": {
        "colab": {
          "base_uri": "https://localhost:8080/"
        },
        "id": "FLSCBMJQx1Uk",
        "outputId": "cf585e9f-60b3-4738-8ffd-644f0858da58"
      },
      "execution_count": null,
      "outputs": [
        {
          "output_type": "stream",
          "name": "stdout",
          "text": [
            "Nur Alimatur Rohmah\n"
          ]
        }
      ]
    },
    {
      "cell_type": "code",
      "source": [],
      "metadata": {
        "id": "Tv-iMtBvyYIh"
      },
      "execution_count": null,
      "outputs": []
    },
    {
      "cell_type": "markdown",
      "source": [
        "#Menampilkan Tekas Bebas dan Nilai Variabel"
      ],
      "metadata": {
        "id": "i--r38rMysKE"
      }
    },
    {
      "cell_type": "code",
      "source": [
        "print(\"berat badan saya adalah\", berat_badan, \"Kg.\")"
      ],
      "metadata": {
        "colab": {
          "base_uri": "https://localhost:8080/"
        },
        "id": "mWW1YRZJyz8r",
        "outputId": "fc875574-929d-4c74-ba31-c248636cbf3f"
      },
      "execution_count": null,
      "outputs": [
        {
          "output_type": "stream",
          "name": "stdout",
          "text": [
            "berat badan saya adalah 50 Kg.\n"
          ]
        }
      ]
    },
    {
      "cell_type": "code",
      "source": [
        "print(\"Perkenalkan nama saya, \" + Nama + \".\")"
      ],
      "metadata": {
        "colab": {
          "base_uri": "https://localhost:8080/"
        },
        "id": "nQrlQELwzzmc",
        "outputId": "1c4e009d-8b92-4f0e-a93a-06338dd2bf86"
      },
      "execution_count": null,
      "outputs": [
        {
          "output_type": "stream",
          "name": "stdout",
          "text": [
            "Perkenalkan nama saya, Nur Alimatur Rohmah.\n"
          ]
        }
      ]
    },
    {
      "cell_type": "code",
      "source": [
        "print(\"Berat badan saya adalah \" + str(berat_badan) + \"Kg.\")"
      ],
      "metadata": {
        "colab": {
          "base_uri": "https://localhost:8080/"
        },
        "id": "-gQIwI3W2St4",
        "outputId": "d3b7a06d-7b7b-4b52-e3d6-c2a4ed980298"
      },
      "execution_count": null,
      "outputs": [
        {
          "output_type": "stream",
          "name": "stdout",
          "text": [
            "Berat badan saya adalah 50Kg.\n"
          ]
        }
      ]
    },
    {
      "cell_type": "code",
      "source": [
        "print(f\"Perkenalan nama saya {Nama}.\")"
      ],
      "metadata": {
        "colab": {
          "base_uri": "https://localhost:8080/"
        },
        "id": "DUQUGHVG2-JK",
        "outputId": "97ea12ee-6827-4dda-8eaf-fc6d21807d4c"
      },
      "execution_count": null,
      "outputs": [
        {
          "output_type": "stream",
          "name": "stdout",
          "text": [
            "Perkenalan nama saya Nur Alimatur Rohmah.\n"
          ]
        }
      ]
    },
    {
      "cell_type": "code",
      "source": [
        "print(f\"Berat badan saya adalah {berat_badan}.\")"
      ],
      "metadata": {
        "colab": {
          "base_uri": "https://localhost:8080/"
        },
        "id": "oPslw4ql3Oh7",
        "outputId": "161e9883-c206-4088-ea09-3c06f86d1eac"
      },
      "execution_count": null,
      "outputs": [
        {
          "output_type": "stream",
          "name": "stdout",
          "text": [
            "Berat badan saya adalah 50.\n"
          ]
        }
      ]
    },
    {
      "cell_type": "markdown",
      "source": [
        "#Escape Character"
      ],
      "metadata": {
        "id": "k3Lrj0ZkDCJT"
      }
    },
    {
      "cell_type": "code",
      "source": [],
      "metadata": {
        "id": "qhKUgaPiDLDG"
      },
      "execution_count": null,
      "outputs": []
    }
  ]
}