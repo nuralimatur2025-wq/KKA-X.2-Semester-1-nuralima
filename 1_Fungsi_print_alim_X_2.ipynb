{
  "nbformat": 4,
  "nbformat_minor": 0,
  "metadata": {
    "colab": {
      "provenance": [],
      "authorship_tag": "ABX9TyNE4HAA19F0CfR1EXFHWSNX",
      "include_colab_link": true
    },
    "kernelspec": {
      "name": "python3",
      "display_name": "Python 3"
    },
    "language_info": {
      "name": "python"
    }
  },
  "cells": [
    {
      "cell_type": "markdown",
      "metadata": {
        "id": "view-in-github",
        "colab_type": "text"
      },
      "source": [
        "<a href=\"https://colab.research.google.com/github/nuralimatur2025-wq/KKA-X.2-Semester-1-nuralima/blob/main/1_Fungsi_print_alim_X_2.ipynb\" target=\"_parent\"><img src=\"https://colab.research.google.com/assets/colab-badge.svg\" alt=\"Open In Colab\"/></a>"
      ]
    },
    {
      "cell_type": "markdown",
      "source": [
        "Nama: Nur Alimatur Rohmah\n",
        "\n",
        "Kelas: X.2\n",
        "\n",
        "Nomor absen: 26"
      ],
      "metadata": {
        "id": "ccc028SBtsIS"
      }
    },
    {
      "cell_type": "markdown",
      "source": [
        "#Penampilan Teks Bebas"
      ],
      "metadata": {
        "id": "bcLYH07bvQxK"
      }
    },
    {
      "cell_type": "markdown",
      "source": [],
      "metadata": {
        "id": "ovdjay5BCBvl"
      }
    },
    {
      "cell_type": "markdown",
      "source": [],
      "metadata": {
        "id": "h8i0NGjPB61c"
      }
    },
    {
      "cell_type": "code",
      "source": [
        "print(\"hallo word\")"
      ],
      "metadata": {
        "colab": {
          "base_uri": "https://localhost:8080/"
        },
        "id": "i54OWAlEwvmK",
        "outputId": "1e68c817-9098-4dc4-b7a2-b807c77f46b9"
      },
      "execution_count": null,
      "outputs": [
        {
          "output_type": "stream",
          "name": "stdout",
          "text": [
            "hallo word\n"
          ]
        }
      ]
    },
    {
      "cell_type": "markdown",
      "source": [
        "#Menampilkan Nilai Variabel"
      ],
      "metadata": {
        "id": "Ij42uaA8xLNI"
      }
    },
    {
      "cell_type": "markdown",
      "source": [],
      "metadata": {
        "id": "DraMx12bCaB7"
      }
    },
    {
      "cell_type": "code",
      "source": [
        "berat_badan = 50\n",
        "\n",
        "print(berat_badan)"
      ],
      "metadata": {
        "colab": {
          "base_uri": "https://localhost:8080/"
        },
        "id": "3KAeGPXFxPyR",
        "outputId": "ea277cf8-1681-4d1f-c07e-49c84605eaf6"
      },
      "execution_count": null,
      "outputs": [
        {
          "output_type": "stream",
          "name": "stdout",
          "text": [
            "50\n"
          ]
        }
      ]
    },
    {
      "cell_type": "code",
      "source": [
        "Nama = \"Nur Alimatur Rohmah\"\n",
        "print(Nama)"
      ],
      "metadata": {
        "colab": {
          "base_uri": "https://localhost:8080/"
        },
        "id": "FLSCBMJQx1Uk",
        "outputId": "cf585e9f-60b3-4738-8ffd-644f0858da58"
      },
      "execution_count": null,
      "outputs": [
        {
          "output_type": "stream",
          "name": "stdout",
          "text": [
            "Nur Alimatur Rohmah\n"
          ]
        }
      ]
    },
    {
      "cell_type": "code",
      "source": [],
      "metadata": {
        "id": "Tv-iMtBvyYIh"
      },
      "execution_count": null,
      "outputs": []
    },
    {
      "cell_type": "markdown",
      "source": [
        "#Menampilkan Tekas Bebas dan Nilai Variabel"
      ],
      "metadata": {
        "id": "i--r38rMysKE"
      }
    },
    {
      "cell_type": "code",
      "source": [
        "print(\"berat badan saya adalah\", berat_badan, \"Kg.\")"
      ],
      "metadata": {
        "colab": {
          "base_uri": "https://localhost:8080/"
        },
        "id": "mWW1YRZJyz8r",
        "outputId": "fc875574-929d-4c74-ba31-c248636cbf3f"
      },
      "execution_count": null,
      "outputs": [
        {
          "output_type": "stream",
          "name": "stdout",
          "text": [
            "berat badan saya adalah 50 Kg.\n"
          ]
        }
      ]
    },
    {
      "cell_type": "code",
      "source": [
        "print(\"Perkenalkan nama saya, \" + Nama + \".\")"
      ],
      "metadata": {
        "colab": {
          "base_uri": "https://localhost:8080/"
        },
        "id": "nQrlQELwzzmc",
        "outputId": "1c4e009d-8b92-4f0e-a93a-06338dd2bf86"
      },
      "execution_count": null,
      "outputs": [
        {
          "output_type": "stream",
          "name": "stdout",
          "text": [
            "Perkenalkan nama saya, Nur Alimatur Rohmah.\n"
          ]
        }
      ]
    },
    {
      "cell_type": "code",
      "source": [
        "print(\"Berat badan saya adalah \" + str(berat_badan) + \"Kg.\")"
      ],
      "metadata": {
        "colab": {
          "base_uri": "https://localhost:8080/"
        },
        "id": "-gQIwI3W2St4",
        "outputId": "d3b7a06d-7b7b-4b52-e3d6-c2a4ed980298"
      },
      "execution_count": null,
      "outputs": [
        {
          "output_type": "stream",
          "name": "stdout",
          "text": [
            "Berat badan saya adalah 50Kg.\n"
          ]
        }
      ]
    },
    {
      "cell_type": "code",
      "source": [
        "print(f\"Perkenalan nama saya {Nama}.\")"
      ],
      "metadata": {
        "colab": {
          "base_uri": "https://localhost:8080/"
        },
        "id": "DUQUGHVG2-JK",
        "outputId": "97ea12ee-6827-4dda-8eaf-fc6d21807d4c"
      },
      "execution_count": null,
      "outputs": [
        {
          "output_type": "stream",
          "name": "stdout",
          "text": [
            "Perkenalan nama saya Nur Alimatur Rohmah.\n"
          ]
        }
      ]
    },
    {
      "cell_type": "code",
      "source": [
        "print(f\"Berat badan saya adalah {berat_badan}.\")"
      ],
      "metadata": {
        "colab": {
          "base_uri": "https://localhost:8080/"
        },
        "id": "oPslw4ql3Oh7",
        "outputId": "161e9883-c206-4088-ea09-3c06f86d1eac"
      },
      "execution_count": null,
      "outputs": [
        {
          "output_type": "stream",
          "name": "stdout",
          "text": [
            "Berat badan saya adalah 50.\n"
          ]
        }
      ]
    },
    {
      "cell_type": "markdown",
      "source": [
        "#Escape Character"
      ],
      "metadata": {
        "id": "k3Lrj0ZkDCJT"
      }
    },
    {
      "cell_type": "code",
      "source": [
        "print(\"Nama: Nur Alimatur Rohmah\")\n",
        "print(\"Kelas: X.2\")\n",
        "print(\"No. Absen: 26\")"
      ],
      "metadata": {
        "id": "qhKUgaPiDLDG",
        "colab": {
          "base_uri": "https://localhost:8080/"
        },
        "outputId": "25d78eb3-8199-4e20-aa7e-718ddc4343d7"
      },
      "execution_count": null,
      "outputs": [
        {
          "output_type": "stream",
          "name": "stdout",
          "text": [
            "Nama: Nur Alimatur Rohmah\n",
            "Kelas: X.2\n",
            "No. Absen: 26\n"
          ]
        }
      ]
    },
    {
      "cell_type": "code",
      "source": [
        "print(\"\"\"Nama: Nur Alimatur Rohmah\n",
        "Kelas: X.2\n",
        "No. Absen: 26\"\"\")"
      ],
      "metadata": {
        "id": "rdz2KThOm04L",
        "colab": {
          "base_uri": "https://localhost:8080/"
        },
        "outputId": "2fb1d1b9-cdbe-4974-f98e-629c74f6d82c"
      },
      "execution_count": null,
      "outputs": [
        {
          "output_type": "stream",
          "name": "stdout",
          "text": [
            "Nama: Nur Alimatur Rohmah \n",
            "Kelas: X.2\n",
            "No. Absen: 26\n"
          ]
        }
      ]
    },
    {
      "cell_type": "code",
      "source": [
        "print(\"Nama\\t\\t: Nur Alimatur Rohmah\\nKelas\\t\\t: X.2\\nNo. Absen\\t: 26\")"
      ],
      "metadata": {
        "id": "iB2XpDXnm1Kw",
        "colab": {
          "base_uri": "https://localhost:8080/"
        },
        "outputId": "ea824de6-9d24-4dc3-b0d1-138ba0563649"
      },
      "execution_count": null,
      "outputs": [
        {
          "output_type": "stream",
          "name": "stdout",
          "text": [
            "Nama\t\t: Nur Alimatur Rohmah\n",
            "Kelas\t\t: X.2\n",
            "No. Absen\t: 26\n"
          ]
        }
      ]
    },
    {
      "cell_type": "code",
      "source": [
        "print('Nama\\t\\t: Ja\\'far shodiq\\nKelas\\t\\t: X.2\\nNo. Absen\\t: 15')"
      ],
      "metadata": {
        "colab": {
          "base_uri": "https://localhost:8080/"
        },
        "id": "iXBtr2rEoSdD",
        "outputId": "91ec1ad3-558d-4167-d5d1-1b62d78bda66"
      },
      "execution_count": null,
      "outputs": [
        {
          "output_type": "stream",
          "name": "stdout",
          "text": [
            "Nama\t\t: Ja'far shodiq\n",
            "Kelas\t\t: X.2\n",
            "No. Absen\t: 15\n"
          ]
        }
      ]
    },
    {
      "cell_type": "code",
      "source": [
        "print(\"Nama\\t\\t: Ja'far shodiq\\nKelas\\t\\t: X.2\\nNo. Absen\\t: 15\")"
      ],
      "metadata": {
        "colab": {
          "base_uri": "https://localhost:8080/"
        },
        "id": "3WwkxS3Moazi",
        "outputId": "e0fe4397-5c9c-4a66-9c98-70870af2a321"
      },
      "execution_count": null,
      "outputs": [
        {
          "output_type": "stream",
          "name": "stdout",
          "text": [
            "Nama\t\t: Ja'far shodiq\n",
            "Kelas\t\t: X.2\n",
            "No. Absen\t: 15\n"
          ]
        }
      ]
    },
    {
      "cell_type": "code",
      "source": [
        "print('Bu Shinta mengatakan \"Semua bisa dipelajari\"')"
      ],
      "metadata": {
        "colab": {
          "base_uri": "https://localhost:8080/"
        },
        "id": "jbhYHjK2oe1N",
        "outputId": "6bd8b1a7-5354-479b-a0fe-37e4c93c13e1"
      },
      "execution_count": null,
      "outputs": [
        {
          "output_type": "stream",
          "name": "stdout",
          "text": [
            "Bu Shinta mengatakan \"Semua bisa dipelajari\"\n"
          ]
        }
      ]
    },
    {
      "cell_type": "code",
      "source": [
        "print(\"Lokasi file tugas KKA: Local disk D:\\\\KKA\\\\Tugas\")"
      ],
      "metadata": {
        "colab": {
          "base_uri": "https://localhost:8080/"
        },
        "id": "b734AsI5okkA",
        "outputId": "fda8261c-a6be-4c2b-9252-87281b1ca769"
      },
      "execution_count": null,
      "outputs": [
        {
          "output_type": "stream",
          "name": "stdout",
          "text": [
            "Lokasi file tugas KKA: Local disk D:\\KKA\\Tugas\n"
          ]
        }
      ]
    },
    {
      "cell_type": "code",
      "source": [
        "\n",
        "print(\"Jadwal Pelajaran Kelas X.2 - MAN Demak 2025/2026\")\n",
        "print(\"================================================\\n\")\n",
        "\n",
        "print(\"Jam\\tSenin\\t\\tSelasa\\t\\tRabu\\t\\tKamis\\t\\tJumat\\t\\tSabtu\")\n",
        "\n",
        "print(\"Jam 1\\tMat Wajib\\tB. Arab\\t\\tB. Jawa\\t\\tFisika\\t\\tMat Wajib\\tBiologi\")\n",
        "print(\"Jam 2\\tMat Wajib\\tB. Arab\\t\\tB. Jawa\\t\\tFisika\\t\\tMat Wajib\\tBiologi\")\n",
        "print(\"Jam 3\\tB. Indo\\t\\tPJOK\\t\\tFikih\\t\\tSejarah\\t\\tPend. Pancasila\\tEkonomi\")\n",
        "print(\"Jam 4\\tB. Indo\\t\\tPJOK\\t\\tFikih\\t\\tSejarah\\t\\tPend. Pancasila\\tEkonomi\")\n",
        "print(\"Jam 5\\tB. Arab\\t\\tB. Indo\\t\\tKimia\\t\\tBiologi\\t\\tSeni Musik\\tSKI\")\n",
        "print(\"Jam 6\\tB. Arab\\t\\tB. Indo\\t\\tKimia\\t\\tGeografi\\t-\\t\\tSKI\")\n",
        "print(\"Jam 7\\tB. Ing\\t\\tAkidah A.\\tSeni Musik\\tGeografi\\t-\\t\\tQur\\'an Hadist\")\n",
        "print(\"Jam 8\\tB. Ing\\t\\tAkidah A.\\tPKWU\\t\\tSosiologi\\t-\\t\\tQur\\'an Hadist\")\n",
        "print(\"Jam 9\\tB. Ing\\t\\tBK\\t\\tPKWU\\t\\tSosiologi\\t-\\t\\tKKA\")\n",
        "print(\"Jam 10\\t-\\t\\t-\\t\\t-\\t\\t-\\t\\t-\\t\\tKKA\")"
      ],
      "metadata": {
        "colab": {
          "base_uri": "https://localhost:8080/"
        },
        "id": "Rg8P2_pAotYK",
        "outputId": "3d1dbce8-c3da-48a9-fd37-8ce10463e6c1"
      },
      "execution_count": 45,
      "outputs": [
        {
          "output_type": "stream",
          "name": "stdout",
          "text": [
            "Jadwal Pelajaran Kelas X.2 - MAN Demak 2025/2026\n",
            "================================================\n",
            "\n",
            "Jam\tSenin\t\tSelasa\t\tRabu\t\tKamis\t\tJumat\t\tSabtu\n",
            "Jam 1\tMat Wajib\tB. Arab\t\tB. Jawa\t\tFisika\t\tMat Wajib\tBiologi\n",
            "Jam 2\tMat Wajib\tB. Arab\t\tB. Jawa\t\tFisika\t\tMat Wajib\tBiologi\n",
            "Jam 3\tB. Indo\t\tPJOK\t\tFikih\t\tSejarah\t\tPend. Pancasila\tEkonomi\n",
            "Jam 4\tB. Indo\t\tPJOK\t\tFikih\t\tSejarah\t\tPend. Pancasila\tEkonomi\n",
            "Jam 5\tB. Arab\t\tB. Indo\t\tKimia\t\tBiologi\t\tSeni Musik\tSKI\n",
            "Jam 6\tB. Arab\t\tB. Indo\t\tKimia\t\tGeografi\t-\t\tSKI\n",
            "Jam 7\tB. Ing\t\tAkidah A.\tSeni Musik\tGeografi\t-\t\tQur'an Hadist\n",
            "Jam 8\tB. Ing\t\tAkidah A.\tPKWU\t\tSosiologi\t-\t\tQur'an Hadist\n",
            "Jam 9\tB. Ing\t\tBK\t\tPKWU\t\tSosiologi\t-\t\tKKA\n",
            "Jam 10\t-\t\t-\t\t-\t\t-\t\t-\t\tKKA\n"
          ]
        }
      ]
    },
    {
      "cell_type": "code",
      "source": [
        "print('Bu Shinta Berkata, \"Berikut adalah daftar piket harian kelas X.2 yang disimpan di file D:\\\\MAN Demak\\\\Jadwal Piket.\"')\n",
        "print(\"Senin\\t\\tSelasa\\t\\tRabu\")\n",
        "print(\"Jielo\\t\\tHasbi\\t\\tNaufal\")\n",
        "print(\"Azam\\t\\tAida\\t\\tNurul\")"
      ],
      "metadata": {
        "id": "1ApTbQADpc45",
        "outputId": "fe9f267a-a5e5-41c4-bf3a-3b9e7f1f28f4",
        "colab": {
          "base_uri": "https://localhost:8080/"
        }
      },
      "execution_count": null,
      "outputs": [
        {
          "output_type": "stream",
          "name": "stdout",
          "text": [
            "Bu Shinta Berkata, \"Berikut adalah daftar piket harian kelas X.2 yang disimpan di file D:\\MAN Demak\\Jadwal Piket.\"\n",
            "Senin\t\tSelasa\t\tRabu\n",
            "Jielo\t\tHasbi\t\tNaufal\n",
            "Azam\t\tAida\t\tNurul\n"
          ]
        }
      ]
    },
    {
      "cell_type": "markdown",
      "source": [
        "#Paramenter Fungsi Print"
      ],
      "metadata": {
        "id": "BoSFm08Zq2Qx"
      }
    },
    {
      "cell_type": "code",
      "source": [
        "nama_siswa_1 = \"Jielo\"\n",
        "nama_siswa_2 = \"Aida\"\n",
        "nama_siswa_3 = \"Dani\"\n",
        "\n",
        "print(nama_siswa_1, end=\"-\")\n",
        "print(nama_siswa_2, end=\"-\")\n",
        "print(nama_siswa_3, end=\"-\")"
      ],
      "metadata": {
        "colab": {
          "base_uri": "https://localhost:8080/"
        },
        "id": "iWBSo6iKrDXD",
        "outputId": "55995c95-ac62-4f53-9aac-78fd6df1b22a"
      },
      "execution_count": null,
      "outputs": [
        {
          "output_type": "stream",
          "name": "stdout",
          "text": [
            "Jielo-Aida-Dani-"
          ]
        }
      ]
    },
    {
      "cell_type": "code",
      "source": [
        "nama_siswa_1 = \"Jielo\"\n",
        "nama_siswa_2 = \"Aida\"\n",
        "nama_siswa_3 = \"Dani\"\n",
        "nama_siswa_4 = \"Nurul\"\n",
        "\n",
        "print(nama_siswa_4, end=\"/\")\n",
        "print(nama_siswa_2, end=\"/\")\n",
        "print(nama_siswa_1, end=\"/\")\n",
        "print(nama_siswa_3, end=\"/\")"
      ],
      "metadata": {
        "colab": {
          "base_uri": "https://localhost:8080/"
        },
        "id": "Hho7zaL-sZwo",
        "outputId": "01331d80-92ab-41f2-80a5-fa822a787b1e"
      },
      "execution_count": null,
      "outputs": [
        {
          "output_type": "stream",
          "name": "stdout",
          "text": [
            "Nurul/Aida/Jielo/Dani/"
          ]
        }
      ]
    },
    {
      "cell_type": "code",
      "source": [
        "nama_siswa_5 = \"Hasbi\"\n",
        "nama_siswa_6 = \"Habibi\"\n",
        "nama_siswa_7 = \"Rendra\"\n",
        "nama_siswa_8 = \"Naufal\"\n",
        "\n",
        "print(nama_siswa_5, nama_siswa_6, nama_siswa_7, nama_siswa_8, sep=\"*\")"
      ],
      "metadata": {
        "colab": {
          "base_uri": "https://localhost:8080/"
        },
        "id": "jO1CP9Sfsq49",
        "outputId": "55369766-c671-4f9b-fe12-489f606c2c65"
      },
      "execution_count": 47,
      "outputs": [
        {
          "output_type": "stream",
          "name": "stdout",
          "text": [
            "Hasbi*Habibi*Rendra*Naufal\n"
          ]
        }
      ]
    }
  ]
}